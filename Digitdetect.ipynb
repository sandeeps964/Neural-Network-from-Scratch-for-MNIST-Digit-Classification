{
  "nbformat": 4,
  "nbformat_minor": 0,
  "metadata": {
    "colab": {
      "provenance": [],
      "authorship_tag": "ABX9TyPqq/SRxaHG4zY2N6eRgKMt"
    },
    "kernelspec": {
      "name": "python3",
      "display_name": "Python 3"
    },
    "language_info": {
      "name": "python"
    }
  },
  "cells": [
    {
      "cell_type": "code",
      "execution_count": 1,
      "metadata": {
        "id": "jIyP7ZW7ht2c"
      },
      "outputs": [],
      "source": [
        "import numpy as np\n",
        "import pandas as pd\n",
        "from matplotlib import pyplot as plt\n",
        "\n",
        "data = pd.read_csv('/content/train.csv')"
      ]
    },
    {
      "cell_type": "code",
      "source": [
        "data = np.array(data)\n",
        "m, n = data.shape\n",
        "np.random.shuffle(data)\n",
        "\n",
        "data_dev = data[0:1000].T\n",
        "Y_dev = data_dev[0]\n",
        "X_dev = data_dev[1:n]\n",
        "X_dev = X_dev / 255.\n",
        "\n",
        "data_train = data[1000:m].T\n",
        "Y_train = data_train[0]\n",
        "X_train = data_train[1:n]\n",
        "X_train = X_train / 255.\n",
        "_,m_train = X_train.shape"
      ],
      "metadata": {
        "id": "931FeWBbkgV0"
      },
      "execution_count": 4,
      "outputs": []
    },
    {
      "cell_type": "code",
      "source": [
        "def init_params():\n",
        "    W1 = np.random.rand(10, 784) - 0.5\n",
        "    b1 = np.random.rand(10, 1) - 0.5\n",
        "    W2 = np.random.rand(10, 10) - 0.5\n",
        "\n",
        "    b2 = np.random.rand(10, 1) - 0.5\n",
        "    return W1, b1, W2, b2\n",
        "\n",
        "def ReLU(Z):\n",
        "    return np.maximum(Z, 0)\n",
        "\n",
        "def softmax(Z):\n",
        "    A = np.exp(Z) / sum(np.exp(Z))\n",
        "    return A\n",
        "\n",
        "def forward_prop(W1, b1, W2, b2, X):\n",
        "    Z1 = W1.dot(X) + b1\n",
        "    A1 = ReLU(Z1)\n",
        "    Z2 = W2.dot(A1) + b2\n",
        "    A2 = softmax(Z2)\n",
        "    return Z1, A1, Z2, A2\n",
        "\n",
        "def ReLU_deriv(Z):\n",
        "    return Z > 0\n",
        "\n",
        "def one_hot(Y):\n",
        "    one_hot_Y = np.zeros((Y.size, Y.max() + 1))\n",
        "    one_hot_Y[np.arange(Y.size), Y] = 1\n",
        "    one_hot_Y = one_hot_Y.T\n",
        "    return one_hot_Y\n",
        "\n",
        "def backward_prop(Z1, A1, Z2, A2, W1, W2, X, Y):\n",
        "    one_hot_Y = one_hot(Y)\n",
        "    dZ2 = A2 - one_hot_Y\n",
        "    dW2 = 1 / m * dZ2.dot(A1.T)\n",
        "    db2 = 1 / m * np.sum(dZ2)\n",
        "    dZ1 = W2.T.dot(dZ2) * ReLU_deriv(Z1)\n",
        "    dW1 = 1 / m * dZ1.dot(X.T)\n",
        "    db1 = 1 / m * np.sum(dZ1)\n",
        "    return dW1, db1, dW2, db2\n",
        "\n",
        "def update_params(W1, b1, W2, b2, dW1, db1, dW2, db2, alpha):\n",
        "    W1 = W1 - alpha * dW1\n",
        "    b1 = b1 - alpha * db1\n",
        "    W2 = W2 - alpha * dW2\n",
        "    b2 = b2 - alpha * db2\n",
        "    return W1, b1, W2, b2"
      ],
      "metadata": {
        "id": "EJUyqeUZkh-y"
      },
      "execution_count": 5,
      "outputs": []
    },
    {
      "cell_type": "code",
      "source": [
        "def get_predictions(A2):\n",
        "    return np.argmax(A2, 0)\n",
        "\n",
        "def get_accuracy(predictions, Y):\n",
        "    print(predictions, Y)\n",
        "    return np.sum(predictions == Y) / Y.size\n",
        "\n",
        "def gradient_descent(X, Y, alpha, iterations):\n",
        "    W1, b1, W2, b2 = init_params()\n",
        "    for i in range(iterations):\n",
        "        Z1, A1, Z2, A2 = forward_prop(W1, b1, W2, b2, X)\n",
        "        dW1, db1, dW2, db2 = backward_prop(Z1, A1, Z2, A2, W1, W2, X, Y)\n",
        "        W1, b1, W2, b2 = update_params(W1, b1, W2, b2, dW1, db1, dW2, db2, alpha)\n",
        "        if i % 10 == 0:\n",
        "            print(\"Iteration: \", i)\n",
        "            predictions = get_predictions(A2)\n",
        "            print(get_accuracy(predictions, Y))\n",
        "    return W1, b1, W2, b2"
      ],
      "metadata": {
        "id": "l_JkndGPk0LE"
      },
      "execution_count": 6,
      "outputs": []
    },
    {
      "cell_type": "code",
      "source": [
        "W1, b1, W2, b2 = gradient_descent(X_train, Y_train, 0.10, 500)"
      ],
      "metadata": {
        "colab": {
          "base_uri": "https://localhost:8080/"
        },
        "id": "5_Ie0fljk5Bj",
        "outputId": "bd76b6c6-836b-4142-dae8-da4a742bc10d"
      },
      "execution_count": 7,
      "outputs": [
        {
          "output_type": "stream",
          "name": "stdout",
          "text": [
            "Iteration:  0\n",
            "[0 8 0 ... 3 1 8] [4 3 4 ... 4 9 5]\n",
            "0.04495121951219512\n",
            "Iteration:  10\n",
            "[4 6 6 ... 3 6 0] [4 3 4 ... 4 9 5]\n",
            "0.17436585365853657\n",
            "Iteration:  20\n",
            "[4 6 6 ... 3 6 8] [4 3 4 ... 4 9 5]\n",
            "0.2844390243902439\n",
            "Iteration:  30\n",
            "[4 6 6 ... 4 6 8] [4 3 4 ... 4 9 5]\n",
            "0.3627560975609756\n",
            "Iteration:  40\n",
            "[4 6 6 ... 4 0 8] [4 3 4 ... 4 9 5]\n",
            "0.42121951219512194\n",
            "Iteration:  50\n",
            "[4 6 6 ... 9 9 8] [4 3 4 ... 4 9 5]\n",
            "0.481390243902439\n",
            "Iteration:  60\n",
            "[4 3 6 ... 9 9 8] [4 3 4 ... 4 9 5]\n",
            "0.5306585365853659\n",
            "Iteration:  70\n",
            "[4 3 6 ... 9 8 5] [4 3 4 ... 4 9 5]\n",
            "0.5659024390243902\n",
            "Iteration:  80\n",
            "[4 5 6 ... 9 8 5] [4 3 4 ... 4 9 5]\n",
            "0.5942682926829268\n",
            "Iteration:  90\n",
            "[4 5 6 ... 9 8 5] [4 3 4 ... 4 9 5]\n",
            "0.6194146341463415\n",
            "Iteration:  100\n",
            "[4 5 6 ... 9 8 5] [4 3 4 ... 4 9 5]\n",
            "0.6393170731707317\n",
            "Iteration:  110\n",
            "[4 5 6 ... 0 3 5] [4 3 4 ... 4 9 5]\n",
            "0.6578048780487805\n",
            "Iteration:  120\n",
            "[4 5 6 ... 0 3 5] [4 3 4 ... 4 9 5]\n",
            "0.6734878048780488\n",
            "Iteration:  130\n",
            "[4 5 6 ... 0 3 5] [4 3 4 ... 4 9 5]\n",
            "0.6867073170731708\n",
            "Iteration:  140\n",
            "[4 5 6 ... 0 3 5] [4 3 4 ... 4 9 5]\n",
            "0.697560975609756\n",
            "Iteration:  150\n",
            "[4 5 6 ... 0 3 5] [4 3 4 ... 4 9 5]\n",
            "0.7076341463414634\n",
            "Iteration:  160\n",
            "[4 5 6 ... 0 3 5] [4 3 4 ... 4 9 5]\n",
            "0.7160243902439024\n",
            "Iteration:  170\n",
            "[4 5 6 ... 0 3 5] [4 3 4 ... 4 9 5]\n",
            "0.7249024390243902\n",
            "Iteration:  180\n",
            "[4 5 6 ... 0 3 5] [4 3 4 ... 4 9 5]\n",
            "0.7324146341463414\n",
            "Iteration:  190\n",
            "[4 5 6 ... 0 3 5] [4 3 4 ... 4 9 5]\n",
            "0.7393170731707317\n",
            "Iteration:  200\n",
            "[4 5 6 ... 0 3 5] [4 3 4 ... 4 9 5]\n",
            "0.7449024390243902\n",
            "Iteration:  210\n",
            "[4 5 6 ... 0 3 5] [4 3 4 ... 4 9 5]\n",
            "0.7507073170731707\n",
            "Iteration:  220\n",
            "[4 5 6 ... 0 3 5] [4 3 4 ... 4 9 5]\n",
            "0.756219512195122\n",
            "Iteration:  230\n",
            "[4 5 6 ... 0 3 5] [4 3 4 ... 4 9 5]\n",
            "0.7610975609756098\n",
            "Iteration:  240\n",
            "[4 5 6 ... 0 3 5] [4 3 4 ... 4 9 5]\n",
            "0.7661707317073171\n",
            "Iteration:  250\n",
            "[4 5 6 ... 0 3 5] [4 3 4 ... 4 9 5]\n",
            "0.7711463414634147\n",
            "Iteration:  260\n",
            "[4 5 6 ... 0 3 5] [4 3 4 ... 4 9 5]\n",
            "0.775829268292683\n",
            "Iteration:  270\n",
            "[4 5 6 ... 0 3 5] [4 3 4 ... 4 9 5]\n",
            "0.7800975609756098\n",
            "Iteration:  280\n",
            "[4 5 6 ... 0 3 5] [4 3 4 ... 4 9 5]\n",
            "0.7845365853658537\n",
            "Iteration:  290\n",
            "[4 5 6 ... 0 3 5] [4 3 4 ... 4 9 5]\n",
            "0.7889024390243903\n",
            "Iteration:  300\n",
            "[4 5 6 ... 0 3 5] [4 3 4 ... 4 9 5]\n",
            "0.7923170731707317\n",
            "Iteration:  310\n",
            "[4 5 6 ... 0 3 5] [4 3 4 ... 4 9 5]\n",
            "0.7955365853658537\n",
            "Iteration:  320\n",
            "[4 5 6 ... 0 3 5] [4 3 4 ... 4 9 5]\n",
            "0.7991951219512196\n",
            "Iteration:  330\n",
            "[4 5 6 ... 0 3 5] [4 3 4 ... 4 9 5]\n",
            "0.8023170731707318\n",
            "Iteration:  340\n",
            "[4 5 6 ... 0 3 5] [4 3 4 ... 4 9 5]\n",
            "0.8056585365853659\n",
            "Iteration:  350\n",
            "[4 5 6 ... 0 3 5] [4 3 4 ... 4 9 5]\n",
            "0.8090975609756098\n",
            "Iteration:  360\n",
            "[4 5 6 ... 0 3 5] [4 3 4 ... 4 9 5]\n",
            "0.8116341463414635\n",
            "Iteration:  370\n",
            "[4 5 6 ... 0 3 5] [4 3 4 ... 4 9 5]\n",
            "0.8146829268292682\n",
            "Iteration:  380\n",
            "[4 5 6 ... 0 3 5] [4 3 4 ... 4 9 5]\n",
            "0.8180243902439024\n",
            "Iteration:  390\n",
            "[4 5 6 ... 0 3 5] [4 3 4 ... 4 9 5]\n",
            "0.8203414634146341\n",
            "Iteration:  400\n",
            "[4 5 6 ... 0 3 5] [4 3 4 ... 4 9 5]\n",
            "0.8230731707317073\n",
            "Iteration:  410\n",
            "[4 5 6 ... 0 3 5] [4 3 4 ... 4 9 5]\n",
            "0.8255365853658536\n",
            "Iteration:  420\n",
            "[4 5 6 ... 0 3 5] [4 3 4 ... 4 9 5]\n",
            "0.8278048780487804\n",
            "Iteration:  430\n",
            "[4 5 6 ... 0 3 5] [4 3 4 ... 4 9 5]\n",
            "0.8300243902439024\n",
            "Iteration:  440\n",
            "[4 5 6 ... 0 3 5] [4 3 4 ... 4 9 5]\n",
            "0.8326341463414634\n",
            "Iteration:  450\n",
            "[4 5 6 ... 0 3 5] [4 3 4 ... 4 9 5]\n",
            "0.8345121951219512\n",
            "Iteration:  460\n",
            "[4 5 6 ... 0 3 5] [4 3 4 ... 4 9 5]\n",
            "0.8367560975609756\n",
            "Iteration:  470\n",
            "[4 5 6 ... 0 3 5] [4 3 4 ... 4 9 5]\n",
            "0.8382195121951219\n",
            "Iteration:  480\n",
            "[4 3 6 ... 0 3 5] [4 3 4 ... 4 9 5]\n",
            "0.8400975609756097\n",
            "Iteration:  490\n",
            "[4 3 6 ... 0 3 5] [4 3 4 ... 4 9 5]\n",
            "0.8419512195121951\n"
          ]
        }
      ]
    },
    {
      "cell_type": "code",
      "source": [
        "def make_predictions(X, W1, b1, W2, b2):\n",
        "    _, _, _, A2 = forward_prop(W1, b1, W2, b2, X)\n",
        "    predictions = get_predictions(A2)\n",
        "    return predictions\n",
        "\n",
        "def test_prediction(index, W1, b1, W2, b2):\n",
        "    current_image = X_train[:, index, None]\n",
        "    prediction = make_predictions(X_train[:, index, None], W1, b1, W2, b2)\n",
        "    label = Y_train[index]\n",
        "    print(\"Prediction: \", prediction)\n",
        "    print(\"Label: \", label)\n",
        "\n",
        "    current_image = current_image.reshape((28, 28)) * 255\n",
        "    plt.gray()\n",
        "    plt.imshow(current_image, interpolation='nearest')\n",
        "    plt.show()\n"
      ],
      "metadata": {
        "id": "MBlT2bNbpWgq"
      },
      "execution_count": 8,
      "outputs": []
    },
    {
      "cell_type": "code",
      "source": [
        "test_prediction(600, W1, b1, W2, b2)\n"
      ],
      "metadata": {
        "colab": {
          "base_uri": "https://localhost:8080/",
          "height": 465
        },
        "id": "uPXjhzUvpcZ2",
        "outputId": "1f1e51d7-8d74-4e46-cf1d-bcdaf01a94e6"
      },
      "execution_count": 9,
      "outputs": [
        {
          "output_type": "stream",
          "name": "stdout",
          "text": [
            "Prediction:  [0]\n",
            "Label:  0\n"
          ]
        },
        {
          "output_type": "display_data",
          "data": {
            "text/plain": [
              "<Figure size 640x480 with 1 Axes>"
            ],
            "image/png": "[encoded data removed]"
          },
          "metadata": {}
        }
      ]
    }
  ]
}