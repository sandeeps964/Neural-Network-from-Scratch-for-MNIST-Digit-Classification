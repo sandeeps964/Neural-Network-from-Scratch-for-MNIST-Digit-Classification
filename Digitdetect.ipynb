{
  "nbformat": 4,
  "nbformat_minor": 0,
  "metadata": {
    "colab": {
      "provenance": [],
      "authorship_tag": "ABX9TyPBxzXrb3ZV4nlYmlV3yrxK"
    },
    "kernelspec": {
      "name": "python3",
      "display_name": "Python 3"
    },
    "language_info": {
      "name": "python"
    }
  },
  "cells": [
    {
      "cell_type": "code",
      "execution_count": null,
      "metadata": {
        "id": "jIyP7ZW7ht2c"
      },
      "outputs": [],
      "source": [
        "import numpy as np\n",
        "import pandas as pd\n",
        "from matplotlib import pyplot as plt\n",
        "\n",
        "data = pd.read_csv('/content/train.csv')"
      ]
    },
    {
      "cell_type": "code",
      "source": [
        "from google.colab import drive\n",
        "drive.mount('/content/drive')"
      ],
      "metadata": {
        "id": "D5gTFY6mIu6C"
      },
      "execution_count": null,
      "outputs": []
    },
    {
      "cell_type": "code",
      "source": [
        "data = np.array(data)\n",
        "m, n = data.shape\n",
        "np.random.shuffle(data)\n",
        "\n",
        "data_dev = data[0:1000].T\n",
        "Y_dev = data_dev[0]\n",
        "X_dev = data_dev[1:n]\n",
        "X_dev = X_dev / 255.\n",
        "\n",
        "data_train = data[1000:m].T\n",
        "Y_train = data_train[0]\n",
        "X_train = data_train[1:n]\n",
        "X_train = X_train / 255.\n",
        "_,m_train = X_train.shape"
      ],
      "metadata": {
        "id": "931FeWBbkgV0"
      },
      "execution_count": null,
      "outputs": []
    },
    {
      "cell_type": "code",
      "source": [
        "def init_params():\n",
        "    W1 = np.random.rand(10, 784) - 0.5\n",
        "    b1 = np.random.rand(10, 1) - 0.5\n",
        "    W2 = np.random.rand(10, 10) - 0.5\n",
        "\n",
        "    b2 = np.random.rand(10, 1) - 0.5\n",
        "    return W1, b1, W2, b2\n",
        "\n",
        "def ReLU(Z):\n",
        "    return np.maximum(Z, 0)\n",
        "\n",
        "def softmax(Z):\n",
        "    A = np.exp(Z) / sum(np.exp(Z))\n",
        "    return A\n",
        "\n",
        "def forward_prop(W1, b1, W2, b2, X):\n",
        "    Z1 = W1.dot(X) + b1\n",
        "    A1 = ReLU(Z1)\n",
        "    Z2 = W2.dot(A1) + b2\n",
        "    A2 = softmax(Z2)\n",
        "    return Z1, A1, Z2, A2\n",
        "\n",
        "def ReLU_deriv(Z):\n",
        "    return Z > 0\n",
        "\n",
        "def one_hot(Y):\n",
        "    one_hot_Y = np.zeros((Y.size, Y.max() + 1))\n",
        "    one_hot_Y[np.arange(Y.size), Y] = 1\n",
        "    one_hot_Y = one_hot_Y.T\n",
        "    return one_hot_Y\n",
        "\n",
        "def backward_prop(Z1, A1, Z2, A2, W1, W2, X, Y):\n",
        "    one_hot_Y = one_hot(Y)\n",
        "    dZ2 = A2 - one_hot_Y\n",
        "    dW2 = 1 / m * dZ2.dot(A1.T)\n",
        "    db2 = 1 / m * np.sum(dZ2)\n",
        "    dZ1 = W2.T.dot(dZ2) * ReLU_deriv(Z1)\n",
        "    dW1 = 1 / m * dZ1.dot(X.T)\n",
        "    db1 = 1 / m * np.sum(dZ1)\n",
        "    return dW1, db1, dW2, db2\n",
        "\n",
        "def update_params(W1, b1, W2, b2, dW1, db1, dW2, db2, alpha):\n",
        "    W1 = W1 - alpha * dW1\n",
        "    b1 = b1 - alpha * db1\n",
        "    W2 = W2 - alpha * dW2\n",
        "    b2 = b2 - alpha * db2\n",
        "    return W1, b1, W2, b2"
      ],
      "metadata": {
        "id": "EJUyqeUZkh-y"
      },
      "execution_count": null,
      "outputs": []
    },
    {
      "cell_type": "code",
      "source": [
        "def get_predictions(A2):\n",
        "    return np.argmax(A2, 0)\n",
        "\n",
        "def get_accuracy(predictions, Y):\n",
        "    print(predictions, Y)\n",
        "    return np.sum(predictions == Y) / Y.size\n",
        "\n",
        "def gradient_descent(X, Y, alpha, iterations):\n",
        "    W1, b1, W2, b2 = init_params()\n",
        "    for i in range(iterations):\n",
        "        Z1, A1, Z2, A2 = forward_prop(W1, b1, W2, b2, X)\n",
        "        dW1, db1, dW2, db2 = backward_prop(Z1, A1, Z2, A2, W1, W2, X, Y)\n",
        "        W1, b1, W2, b2 = update_params(W1, b1, W2, b2, dW1, db1, dW2, db2, alpha)\n",
        "        if i % 10 == 0:\n",
        "            print(\"Iteration: \", i)\n",
        "            predictions = get_predictions(A2)\n",
        "            print(get_accuracy(predictions, Y))\n",
        "    return W1, b1, W2, b2"
      ],
      "metadata": {
        "id": "l_JkndGPk0LE"
      },
      "execution_count": null,
      "outputs": []
    },
    {
      "cell_type": "code",
      "source": [
        "W1, b1, W2, b2 = gradient_descent(X_train, Y_train, 0.10, 500)"
      ],
      "metadata": {
        "colab": {
          "base_uri": "https://localhost:8080/"
        },
        "id": "5_Ie0fljk5Bj",
        "outputId": "8beff0f3-62e2-4349-cba6-37385465afc9"
      },
      "execution_count": null,
      "outputs": [
        {
          "output_type": "stream",
          "name": "stdout",
          "text": [
            "Iteration:  0\n",
            "[3 3 3 ... 3 7 3] [4 2 4 ... 0 5 8]\n",
            "0.054658536585365854\n",
            "Iteration:  10\n",
            "[6 8 4 ... 6 7 3] [4 2 4 ... 0 5 8]\n",
            "0.1342439024390244\n",
            "Iteration:  20\n",
            "[6 8 4 ... 6 8 3] [4 2 4 ... 0 5 8]\n",
            "0.19204878048780488\n",
            "Iteration:  30\n",
            "[6 8 4 ... 3 8 3] [4 2 4 ... 0 5 8]\n",
            "0.24409756097560975\n",
            "Iteration:  40\n",
            "[3 3 4 ... 3 3 3] [4 2 4 ... 0 5 8]\n",
            "0.31078048780487805\n",
            "Iteration:  50\n",
            "[0 1 4 ... 3 5 3] [4 2 4 ... 0 5 8]\n",
            "0.37629268292682927\n",
            "Iteration:  60\n",
            "[0 1 4 ... 3 5 3] [4 2 4 ... 0 5 8]\n",
            "0.44926829268292684\n",
            "Iteration:  70\n",
            "[0 2 4 ... 7 5 5] [4 2 4 ... 0 5 8]\n",
            "0.5066341463414634\n",
            "Iteration:  80\n",
            "[0 2 4 ... 7 5 5] [4 2 4 ... 0 5 8]\n",
            "0.5540487804878049\n",
            "Iteration:  90\n",
            "[0 2 4 ... 7 5 5] [4 2 4 ... 0 5 8]\n",
            "0.591390243902439\n",
            "Iteration:  100\n",
            "[0 2 4 ... 7 5 5] [4 2 4 ... 0 5 8]\n",
            "0.6224390243902439\n",
            "Iteration:  110\n",
            "[0 2 4 ... 7 5 5] [4 2 4 ... 0 5 8]\n",
            "0.6477804878048781\n",
            "Iteration:  120\n",
            "[0 2 4 ... 7 5 5] [4 2 4 ... 0 5 8]\n",
            "0.6708780487804878\n",
            "Iteration:  130\n",
            "[0 2 4 ... 7 5 5] [4 2 4 ... 0 5 8]\n",
            "0.689780487804878\n",
            "Iteration:  140\n",
            "[0 2 4 ... 5 5 5] [4 2 4 ... 0 5 8]\n",
            "0.7044878048780487\n",
            "Iteration:  150\n",
            "[0 2 4 ... 5 5 5] [4 2 4 ... 0 5 8]\n",
            "0.7190487804878049\n",
            "Iteration:  160\n",
            "[0 2 4 ... 0 5 5] [4 2 4 ... 0 5 8]\n",
            "0.7321219512195122\n",
            "Iteration:  170\n",
            "[6 2 4 ... 0 5 5] [4 2 4 ... 0 5 8]\n",
            "0.7431951219512195\n",
            "Iteration:  180\n",
            "[6 2 4 ... 0 5 5] [4 2 4 ... 0 5 8]\n",
            "0.7535609756097561\n",
            "Iteration:  190\n",
            "[6 2 4 ... 0 5 5] [4 2 4 ... 0 5 8]\n",
            "0.7621707317073171\n",
            "Iteration:  200\n",
            "[6 2 4 ... 0 5 5] [4 2 4 ... 0 5 8]\n",
            "0.7692682926829268\n",
            "Iteration:  210\n",
            "[6 2 4 ... 0 5 5] [4 2 4 ... 0 5 8]\n",
            "0.7756585365853659\n",
            "Iteration:  220\n",
            "[6 2 4 ... 0 5 5] [4 2 4 ... 0 5 8]\n",
            "0.782219512195122\n",
            "Iteration:  230\n",
            "[6 2 4 ... 0 5 5] [4 2 4 ... 0 5 8]\n",
            "0.7871707317073171\n",
            "Iteration:  240\n",
            "[6 2 4 ... 0 5 5] [4 2 4 ... 0 5 8]\n",
            "0.7921463414634147\n",
            "Iteration:  250\n",
            "[6 2 4 ... 0 5 5] [4 2 4 ... 0 5 8]\n",
            "0.7964390243902439\n",
            "Iteration:  260\n",
            "[6 2 4 ... 0 5 5] [4 2 4 ... 0 5 8]\n",
            "0.8012926829268293\n",
            "Iteration:  270\n",
            "[6 2 4 ... 0 5 5] [4 2 4 ... 0 5 8]\n",
            "0.8053658536585366\n",
            "Iteration:  280\n",
            "[6 2 4 ... 0 5 5] [4 2 4 ... 0 5 8]\n",
            "0.8085121951219513\n",
            "Iteration:  290\n",
            "[6 2 4 ... 0 5 5] [4 2 4 ... 0 5 8]\n",
            "0.8118780487804879\n",
            "Iteration:  300\n",
            "[6 2 4 ... 0 5 5] [4 2 4 ... 0 5 8]\n",
            "0.8148780487804878\n",
            "Iteration:  310\n",
            "[6 2 4 ... 0 5 0] [4 2 4 ... 0 5 8]\n",
            "0.8178048780487804\n",
            "Iteration:  320\n",
            "[6 2 4 ... 0 5 0] [4 2 4 ... 0 5 8]\n",
            "0.8204146341463414\n",
            "Iteration:  330\n",
            "[6 2 4 ... 0 5 0] [4 2 4 ... 0 5 8]\n",
            "0.8234390243902439\n",
            "Iteration:  340\n",
            "[6 2 4 ... 0 5 0] [4 2 4 ... 0 5 8]\n",
            "0.8262195121951219\n",
            "Iteration:  350\n",
            "[6 2 4 ... 0 5 0] [4 2 4 ... 0 5 8]\n",
            "0.8283170731707317\n",
            "Iteration:  360\n",
            "[6 2 4 ... 0 5 0] [4 2 4 ... 0 5 8]\n",
            "0.8302195121951219\n",
            "Iteration:  370\n",
            "[6 2 4 ... 0 5 0] [4 2 4 ... 0 5 8]\n",
            "0.8324390243902439\n",
            "Iteration:  380\n",
            "[6 2 4 ... 0 5 0] [4 2 4 ... 0 5 8]\n",
            "0.8344390243902439\n",
            "Iteration:  390\n",
            "[6 2 4 ... 0 5 0] [4 2 4 ... 0 5 8]\n",
            "0.8365853658536585\n",
            "Iteration:  400\n",
            "[6 2 4 ... 0 5 0] [4 2 4 ... 0 5 8]\n",
            "0.8378048780487805\n",
            "Iteration:  410\n",
            "[6 2 4 ... 0 5 0] [4 2 4 ... 0 5 8]\n",
            "0.8394390243902439\n",
            "Iteration:  420\n",
            "[6 2 4 ... 0 5 0] [4 2 4 ... 0 5 8]\n",
            "0.8411463414634146\n",
            "Iteration:  430\n",
            "[6 2 4 ... 0 5 0] [4 2 4 ... 0 5 8]\n",
            "0.8426341463414634\n",
            "Iteration:  440\n",
            "[6 2 4 ... 0 5 0] [4 2 4 ... 0 5 8]\n",
            "0.8435365853658536\n",
            "Iteration:  450\n",
            "[6 2 4 ... 0 5 0] [4 2 4 ... 0 5 8]\n",
            "0.844780487804878\n",
            "Iteration:  460\n",
            "[6 2 4 ... 0 5 0] [4 2 4 ... 0 5 8]\n",
            "0.8463170731707317\n",
            "Iteration:  470\n",
            "[6 2 4 ... 0 5 0] [4 2 4 ... 0 5 8]\n",
            "0.8477317073170731\n",
            "Iteration:  480\n",
            "[6 2 4 ... 0 5 0] [4 2 4 ... 0 5 8]\n",
            "0.848780487804878\n",
            "Iteration:  490\n",
            "[6 2 4 ... 0 5 0] [4 2 4 ... 0 5 8]\n",
            "0.8500243902439024\n"
          ]
        }
      ]
    },
    {
      "cell_type": "code",
      "source": [
        "def make_predictions(X, W1, b1, W2, b2):\n",
        "    _, _, _, A2 = forward_prop(W1, b1, W2, b2, X)\n",
        "    predictions = get_predictions(A2)\n",
        "    return predictions\n",
        "\n",
        "def test_prediction(index, W1, b1, W2, b2):\n",
        "    current_image = X_train[:, index, None]\n",
        "    prediction = make_predictions(X_train[:, index, None], W1, b1, W2, b2)\n",
        "    label = Y_train[index]\n",
        "    print(\"Prediction: \", prediction)\n",
        "    print(\"Label: \", label)\n",
        "\n",
        "    current_image = current_image.reshape((28, 28)) * 255\n",
        "    plt.gray()\n",
        "    plt.imshow(current_image, interpolation='nearest')\n",
        "    plt.show()\n"
      ],
      "metadata": {
        "id": "MBlT2bNbpWgq"
      },
      "execution_count": null,
      "outputs": []
    },
    {
      "cell_type": "code",
      "source": [
        "test_prediction(600, W1, b1, W2, b2)\n"
      ],
      "metadata": {
        "colab": {
          "base_uri": "https://localhost:8080/",
          "height": 144
        },
        "id": "uPXjhzUvpcZ2",
        "outputId": "8a909630-128d-4167-dfd3-1f29bb495fdd"
      },
      "execution_count": null,
      "outputs": [
        {
          "output_type": "error",
          "ename": "NameError",
          "evalue": "name 'test_prediction' is not defined",
          "traceback": [
            "\u001b[0;31m---------------------------------------------------------------------------\u001b[0m",
            "\u001b[0;31mNameError\u001b[0m                                 Traceback (most recent call last)",
            "\u001b[0;32m/tmp/ipython-input-1-3049882753.py\u001b[0m in \u001b[0;36m<cell line: 0>\u001b[0;34m()\u001b[0m\n\u001b[0;32m----> 1\u001b[0;31m \u001b[0mtest_prediction\u001b[0m\u001b[0;34m(\u001b[0m\u001b[0;36m601\u001b[0m\u001b[0;34m,\u001b[0m \u001b[0mW1\u001b[0m\u001b[0;34m,\u001b[0m \u001b[0mb1\u001b[0m\u001b[0;34m,\u001b[0m \u001b[0mW2\u001b[0m\u001b[0;34m,\u001b[0m \u001b[0mb2\u001b[0m\u001b[0;34m)\u001b[0m\u001b[0;34m\u001b[0m\u001b[0;34m\u001b[0m\u001b[0m\n\u001b[0m",
            "\u001b[0;31mNameError\u001b[0m: name 'test_prediction' is not defined"
          ]
        }
      ]
    }
  ]
}